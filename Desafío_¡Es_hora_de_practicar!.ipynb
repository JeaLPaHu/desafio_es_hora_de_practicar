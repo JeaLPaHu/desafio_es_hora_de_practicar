{
  "nbformat": 4,
  "nbformat_minor": 0,
  "metadata": {
    "colab": {
      "provenance": [],
      "authorship_tag": "ABX9TyOVOBLvZTShC1W/qI28KHQY",
      "include_colab_link": true
    },
    "kernelspec": {
      "name": "python3",
      "display_name": "Python 3"
    },
    "language_info": {
      "name": "python"
    }
  },
  "cells": [
    {
      "cell_type": "markdown",
      "metadata": {
        "id": "view-in-github",
        "colab_type": "text"
      },
      "source": [
        "<a href=\"https://colab.research.google.com/github/JeaLPaHu/desafio_es_hora_de_practicar/blob/main/Desaf%C3%ADo_%C2%A1Es_hora_de_practicar!.ipynb\" target=\"_parent\"><img src=\"https://colab.research.google.com/assets/colab-badge.svg\" alt=\"Open In Colab\"/></a>"
      ]
    },
    {
      "cell_type": "markdown",
      "source": [
        "#Desafío: ¡Es hora de practicar!\n",
        "Vamos a practicar el uso de la función print con algunas actividades. Para ello, resuelve los problemas propuestos en código:\n",
        "\n",
        "1 - Imprime la frase \"Escuela de Datos de Alura\"."
      ],
      "metadata": {
        "id": "LBOQo3pFk1DC"
      }
    },
    {
      "cell_type": "code",
      "execution_count": null,
      "metadata": {
        "colab": {
          "base_uri": "https://localhost:8080/"
        },
        "id": "pDM4NYaUhyiC",
        "outputId": "99af150a-d531-439c-882e-b359fe67c2fa"
      },
      "outputs": [
        {
          "output_type": "stream",
          "name": "stdout",
          "text": [
            "Escuela de datos Alura\n"
          ]
        }
      ],
      "source": [
        "print('Escuela de datos Alura')"
      ]
    },
    {
      "cell_type": "markdown",
      "source": [
        "2 - Imprime tu nombre y tu apellido siguiendo la estructura a continuación:"
      ],
      "metadata": {
        "id": "T6XQqdMClAVC"
      }
    },
    {
      "cell_type": "code",
      "source": [
        "print('Nombre:Jesús')\n",
        "print('Apellido: Palet')"
      ],
      "metadata": {
        "id": "l18txHYkh8C9",
        "colab": {
          "base_uri": "https://localhost:8080/"
        },
        "outputId": "8a87ee72-796d-4c03-f028-eed7b2b8e779"
      },
      "execution_count": 4,
      "outputs": [
        {
          "output_type": "stream",
          "name": "stdout",
          "text": [
            "Nombre:Jesús\n",
            "Apellido: Palet\n"
          ]
        }
      ]
    },
    {
      "cell_type": "markdown",
      "source": [
        "3 - Imprime tu primer nombre letra por letra. Por ejemplo, si mi nombre es Álvaro, la salida sería:"
      ],
      "metadata": {
        "id": "UVAZTrh8lBzb"
      }
    },
    {
      "cell_type": "code",
      "source": [
        "print('J')\n",
        "print('E')\n",
        "print('S')\n",
        "print('Ú')\n",
        "print('S')"
      ],
      "metadata": {
        "colab": {
          "base_uri": "https://localhost:8080/"
        },
        "id": "zXQPes-ekBFw",
        "outputId": "b39910eb-cbac-430d-fdcb-acf2a8648106"
      },
      "execution_count": 5,
      "outputs": [
        {
          "output_type": "stream",
          "name": "stdout",
          "text": [
            "J\n",
            "E\n",
            "S\n",
            "Ú\n",
            "S\n"
          ]
        }
      ]
    },
    {
      "cell_type": "markdown",
      "source": [
        "4 - Imprime tu fecha de nacimiento en formato día mes año. Recuerda que los valores de día y año no deben estar entre comillas. Suponiendo una fecha de cumpleaños el 28 de febrero de 2003, el formato debe ser como el siguiente:"
      ],
      "metadata": {
        "id": "cuDQUbLclEmO"
      }
    },
    {
      "cell_type": "code",
      "source": [
        "print(7, 'agosto', 1984)"
      ],
      "metadata": {
        "colab": {
          "base_uri": "https://localhost:8080/"
        },
        "id": "tFYqrnWBkRnJ",
        "outputId": "4f954c15-db29-454e-d080-381d0c05528a"
      },
      "execution_count": 8,
      "outputs": [
        {
          "output_type": "stream",
          "name": "stdout",
          "text": [
            "7 agosto 1984\n"
          ]
        }
      ]
    },
    {
      "cell_type": "markdown",
      "source": [
        "5 - Imprime, en una sola instrucción print, el año actual en el que estás realizando este curso. El valor del año debe ser un dato numérico, y la salida de print debe ser la siguiente:"
      ],
      "metadata": {
        "id": "NR-nJ8NFlF6D"
      }
    },
    {
      "cell_type": "code",
      "source": [
        "print('Año actual:', 2025)"
      ],
      "metadata": {
        "colab": {
          "base_uri": "https://localhost:8080/"
        },
        "id": "QEXD4bM6khMd",
        "outputId": "e499b2e0-8a44-4779-ba56-91d277497641"
      },
      "execution_count": 13,
      "outputs": [
        {
          "output_type": "stream",
          "name": "stdout",
          "text": [
            "Año actual: 2025\n"
          ]
        }
      ]
    },
    {
      "cell_type": "code",
      "source": [],
      "metadata": {
        "id": "9E9O0U91ldiI"
      },
      "execution_count": null,
      "outputs": []
    }
  ]
}